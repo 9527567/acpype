{
 "cells": [
  {
   "cell_type": "markdown",
   "metadata": {},
   "source": [
    "# For calculating topologies via antechamber"
   ]
  },
  {
   "cell_type": "code",
   "execution_count": 1,
   "metadata": {},
   "outputs": [],
   "source": [
    "from scripts.acpype import ACTopol, MolTopol\n",
    "import os"
   ]
  },
  {
   "cell_type": "markdown",
   "metadata": {},
   "source": [
    "Directory where the Ligand.acpype folder will be saved"
   ]
  },
  {
   "cell_type": "code",
   "execution_count": 2,
   "metadata": {},
   "outputs": [
    {
     "name": "stdout",
     "output_type": "stream",
     "text": [
      "/home/lkagami\n"
     ]
    }
   ],
   "source": [
    "print(os.getcwd())"
   ]
  },
  {
   "cell_type": "code",
   "execution_count": 3,
   "metadata": {},
   "outputs": [
    {
     "name": "stdout",
     "output_type": "stream",
     "text": [
      "WARNING: no charge value given, trying to guess one...\n",
      "==> ... charge set to 0\n"
     ]
    }
   ],
   "source": [
    "molecule = ACTopol('/home/lkagami/Downloads/Ligand.mol2')"
   ]
  },
  {
   "cell_type": "code",
   "execution_count": 4,
   "metadata": {},
   "outputs": [
    {
     "name": "stdout",
     "output_type": "stream",
     "text": [
      "==> Executing Antechamber...\n",
      "==> AC output file present... doing nothing\n",
      "==> * Antechamber OK *\n",
      "==> * Parmchk OK *\n",
      "==> Topologies files already present... doing nothing\n",
      "==> * Tleap OK *\n",
      "==> Removing temporary files...\n"
     ]
    }
   ],
   "source": [
    "molecule.createACTopol()"
   ]
  },
  {
   "cell_type": "code",
   "execution_count": 5,
   "metadata": {},
   "outputs": [
    {
     "name": "stdout",
     "output_type": "stream",
     "text": [
      "==> Writing NEW PDB file\n",
      "\n",
      "==> Writing CNS/XPLOR files\n",
      "\n",
      "==> Writing GROMACS files\n",
      "\n",
      "==> Writing GMX dihedrals for GMX 4.5 and higher.\n",
      "\n",
      "==> Writing CHARMM files\n",
      "\n",
      "==> Pickle file Ligand.pkl already present... doing nothing\n"
     ]
    }
   ],
   "source": [
    "molecule.createMolTopol()"
   ]
  },
  {
   "cell_type": "markdown",
   "metadata": {},
   "source": [
    "# For an example of ACPYPE amb2gmx feature:"
   ]
  },
  {
   "cell_type": "code",
   "execution_count": 6,
   "metadata": {},
   "outputs": [
    {
     "name": "stdout",
     "output_type": "stream",
     "text": [
      "DEBUG: prmtop and inpcrd files loaded\n",
      "DEBUG: basename defined = 'SUB'\n",
      "DEBUG: getCoords done\n",
      "DEBUG: getABCOEFs done\n",
      "DEBUG: charge to be balanced: total  0.0000000001\n",
      "DEBUG: balanceCharges done\n",
      "DEBUG: Balanced TotalCharge -0.0000000000\n",
      "DEBUG: PBC = None\n",
      "DEBUG: getAtoms done\n",
      "DEBUG: getBonds done\n",
      "DEBUG: getAngles done\n",
      "DEBUG: getDihedrals done\n"
     ]
    }
   ],
   "source": [
    "mol = MolTopol(acFileXyz='/home/lkagami/Ligand.acpype/Ligand_AC.inpcrd', acFileTop='/home/lkagami/Ligand.acpype/Ligand_AC.prmtop', debug=True) "
   ]
  },
  {
   "cell_type": "code",
   "execution_count": 7,
   "metadata": {},
   "outputs": [
    {
     "name": "stdout",
     "output_type": "stream",
     "text": [
      "==> Writing GROMACS files\n",
      "\n",
      "DEBUG: writing GRO file\n",
      "DEBUG: Box size estimated\n",
      "DEBUG: atomTypes 14\n",
      "DEBUG: GMX atomtypes done\n",
      "DEBUG: atoms 43\n",
      "DEBUG: GMX atoms done\n",
      "DEBUG: bonds 44\n",
      "DEBUG: GMX bonds done\n",
      "DEBUG: atomPairs 92\n",
      "DEBUG: GMX pairs done\n",
      "DEBUG: angles 76\n",
      "DEBUG: GMX angles done\n",
      "DEBUG: setProperDihedralsCoef done\n",
      "DEBUG: properDihedralsCoefRB 98\n",
      "DEBUG: properDihedralsAlphaGamma 0\n",
      "DEBUG: properDihedralsGmx45 107\n",
      "==> Writing GMX dihedrals for GMX 4.5 and higher.\n",
      "\n",
      "DEBUG: GMX special proper dihedrals done\n",
      "DEBUG: improperDihedrals 13\n",
      "DEBUG: GMX improper dihedrals done\n"
     ]
    }
   ],
   "source": [
    "mol.writeGromacsTopolFiles(amb2gmx=True)"
   ]
  }
 ],
 "metadata": {
  "kernelspec": {
   "display_name": "Python 3",
   "language": "python",
   "name": "python3"
  },
  "language_info": {
   "codemirror_mode": {
    "name": "ipython",
    "version": 3
   },
   "file_extension": ".py",
   "mimetype": "text/x-python",
   "name": "python",
   "nbconvert_exporter": "python",
   "pygments_lexer": "ipython3",
   "version": "3.7.6"
  }
 },
 "nbformat": 4,
 "nbformat_minor": 4
}
